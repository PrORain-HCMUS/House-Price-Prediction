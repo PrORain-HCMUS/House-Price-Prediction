{
 "cells": [
  {
   "cell_type": "markdown",
   "id": "f476f634",
   "metadata": {},
   "source": [
    "This module handles all data preprocessing tasks including:\n",
    "- Loading training and test datasets\n",
    "- Data cleaning and missing value handling\n",
    "- Feature engineering\n",
    "- Categorical encoding\n",
    "- Data validation and quality checks\n",
    "\n",
    "Date: 2025/07/15"
   ]
  },
  {
   "cell_type": "markdown",
   "id": "2ea70c87",
   "metadata": {},
   "source": [
    "### Xử lý và chuẩn bị dữ liệu cho mô hình Conformal Prediction\n",
    "\n",
    "#### Import các thư viện cần thiết"
   ]
  },
  {
   "cell_type": "code",
   "execution_count": 1,
   "id": "04f8137d",
   "metadata": {},
   "outputs": [],
   "source": [
    "import pandas as pd\n",
    "import numpy as np\n",
    "from sklearn.preprocessing import StandardScaler, LabelEncoder\n",
    "from sklearn.model_selection import train_test_split\n",
    "import joblib\n",
    "import warnings\n",
    "import os\n",
    "warnings.filterwarnings('ignore')"
   ]
  },
  {
   "cell_type": "markdown",
   "id": "fc124df9",
   "metadata": {},
   "source": [
    "#### Đọc dữ liệu từ file CSV"
   ]
  },
  {
   "cell_type": "code",
   "execution_count": 2,
   "id": "87c1bd4b",
   "metadata": {},
   "outputs": [
    {
     "name": "stdout",
     "output_type": "stream",
     "text": [
      "Đang đọc dữ liệu...\n",
      "Kích thước dataset: (200000, 47)\n",
      "Kích thước test: (200000, 46)\n"
     ]
    }
   ],
   "source": [
    "print(\"Đang đọc dữ liệu...\")\n",
    "dataset_df = pd.read_csv('dataset/dataset.csv')\n",
    "test_df = pd.read_csv('dataset/test.csv')\n",
    "\n",
    "print(f\"Kích thước dataset: {dataset_df.shape}\")\n",
    "print(f\"Kích thước test: {test_df.shape}\")"
   ]
  },
  {
   "cell_type": "markdown",
   "id": "7769574c",
   "metadata": {},
   "source": [
    "#### Kiểm tra và xử lý dữ liệu thiếu"
   ]
  },
  {
   "cell_type": "code",
   "execution_count": 3,
   "id": "aaf040f8",
   "metadata": {},
   "outputs": [
    {
     "name": "stdout",
     "output_type": "stream",
     "text": [
      "\n",
      "Thông tin về dữ liệu thiếu trong dataset:\n",
      "sale_nbr       42182\n",
      "subdivision    17550\n",
      "submarket       1717\n",
      "dtype: int64\n",
      "\n",
      "Thông tin về dữ liệu thiếu trong test:\n",
      "sale_nbr       42412\n",
      "subdivision    17550\n",
      "submarket       1718\n",
      "dtype: int64\n"
     ]
    }
   ],
   "source": [
    "print(\"\\nThông tin về dữ liệu thiếu trong dataset:\")\n",
    "missing_dataset = dataset_df.isnull().sum()\n",
    "print(missing_dataset[missing_dataset > 0])\n",
    "\n",
    "print(\"\\nThông tin về dữ liệu thiếu trong test:\")\n",
    "missing_test = test_df.isnull().sum()\n",
    "print(missing_test[missing_test > 0])"
   ]
  },
  {
   "cell_type": "markdown",
   "id": "c7f30379",
   "metadata": {},
   "source": [
    "#### Xử lý cột ngày tháng"
   ]
  },
  {
   "cell_type": "code",
   "execution_count": 4,
   "id": "de1d609b",
   "metadata": {},
   "outputs": [
    {
     "name": "stdout",
     "output_type": "stream",
     "text": [
      "Đã trích xuất các đặc trưng từ sale_date\n",
      "Đã trích xuất các đặc trưng từ sale_date\n"
     ]
    }
   ],
   "source": [
    "def extract_date_features(df, date_column='sale_date'):\n",
    "    \"\"\"\n",
    "    Trích xuất các đặc trưng từ cột ngày tháng\n",
    "    \"\"\"\n",
    "    df_copy = df.copy()\n",
    "\n",
    "    if date_column in df_copy.columns:\n",
    "        df_copy[date_column] = pd.to_datetime(df_copy[date_column])\n",
    "\n",
    "        df_copy['sale_year'] = df_copy[date_column].dt.year\n",
    "        df_copy['sale_month'] = df_copy[date_column].dt.month\n",
    "        df_copy['sale_quarter'] = df_copy[date_column].dt.quarter\n",
    "        df_copy['sale_day_of_week'] = df_copy[date_column].dt.dayofweek\n",
    "        df_copy['sale_day_of_month'] = df_copy[date_column].dt.day\n",
    "\n",
    "        df_copy = df_copy.drop(columns=[date_column])\n",
    "\n",
    "        print(f\"Đã trích xuất các đặc trưng từ {date_column}\")\n",
    "\n",
    "    return df_copy\n",
    "\n",
    "dataset_with_date_features = extract_date_features(dataset_df, 'sale_date')\n",
    "test_with_date_features = extract_date_features(test_df, 'sale_date')"
   ]
  },
  {
   "cell_type": "markdown",
   "id": "17197038",
   "metadata": {},
   "source": [
    "#### Xử lý các cột categorical"
   ]
  },
  {
   "cell_type": "code",
   "execution_count": 5,
   "id": "4719f7ad",
   "metadata": {},
   "outputs": [],
   "source": [
    "categorical_columns = ['sale_warning', 'join_status', 'city', 'zoning', 'subdivision', 'submarket']\n",
    "\n",
    "def preprocess_categorical(df, categorical_cols, label_encoders=None, is_training=True):\n",
    "    df_processed = df.copy()\n",
    "\n",
    "    if is_training:\n",
    "        encoders = {}\n",
    "        for col in categorical_cols:\n",
    "            if col in df_processed.columns:\n",
    "                le = LabelEncoder()\n",
    "                df_processed[col] = df_processed[col].fillna('unknown')\n",
    "                df_processed[col] = df_processed[col].astype(str)\n",
    "\n",
    "                unique_values = df_processed[col].unique().tolist()\n",
    "                if 'unknown' not in unique_values:\n",
    "                    unique_values.append('unknown')\n",
    "\n",
    "                le.fit(unique_values)\n",
    "                df_processed[col] = le.transform(df_processed[col])\n",
    "                encoders[col] = le\n",
    "        return df_processed, encoders\n",
    "    else:\n",
    "        for col in categorical_cols:\n",
    "            if col in df_processed.columns and col in label_encoders:\n",
    "                df_processed[col] = df_processed[col].fillna('unknown')\n",
    "                df_processed[col] = df_processed[col].astype(str)\n",
    "\n",
    "                le = label_encoders[col]\n",
    "\n",
    "                unknown_mask = ~df_processed[col].isin(le.classes_)\n",
    "                df_processed.loc[unknown_mask, col] = 'unknown'\n",
    "\n",
    "                df_processed[col] = le.transform(df_processed[col])\n",
    "        return df_processed\n",
    "\n",
    "dataset_processed, label_encoders = preprocess_categorical(dataset_with_date_features, categorical_columns, is_training=True)"
   ]
  },
  {
   "cell_type": "markdown",
   "id": "8fc56db1",
   "metadata": {},
   "source": [
    "#### Xử lý dữ liệu thiếu cho các cột số"
   ]
  },
  {
   "cell_type": "code",
   "execution_count": 6,
   "id": "0959671c",
   "metadata": {},
   "outputs": [
    {
     "name": "stdout",
     "output_type": "stream",
     "text": [
      "Điền sale_nbr với giá trị median: 2.0\n"
     ]
    }
   ],
   "source": [
    "numeric_columns = dataset_processed.select_dtypes(include=[np.number]).columns.tolist()\n",
    "if 'sale_price' in numeric_columns:\n",
    "    numeric_columns.remove('sale_price')\n",
    "\n",
    "for col in numeric_columns:\n",
    "    if dataset_processed[col].isnull().sum() > 0:\n",
    "        median_val = dataset_processed[col].median()\n",
    "        dataset_processed[col] = dataset_processed[col].fillna(median_val)\n",
    "        print(f\"Điền {col} với giá trị median: {median_val}\")"
   ]
  },
  {
   "cell_type": "markdown",
   "id": "a1cb5441",
   "metadata": {},
   "source": [
    "#### Tách features và target"
   ]
  },
  {
   "cell_type": "code",
   "execution_count": 7,
   "id": "d8b3209a",
   "metadata": {},
   "outputs": [
    {
     "name": "stdout",
     "output_type": "stream",
     "text": [
      "\n",
      "Số lượng features: 50\n",
      "Các đặc trưng từ ngày: sale_year, sale_month, sale_quarter, sale_day_of_week, sale_day_of_month\n",
      "Tên các features: ['id', 'sale_nbr', 'sale_warning', 'join_status', 'join_year', 'latitude', 'longitude', 'area', 'city', 'zoning', 'subdivision', 'present_use', 'land_val', 'imp_val', 'year_built', 'year_reno', 'sqft_lot', 'sqft', 'sqft_1', 'sqft_fbsmt', 'grade', 'fbsmt_grade', 'condition', 'stories', 'beds', 'bath_full', 'bath_3qtr', 'bath_half', 'garb_sqft', 'gara_sqft', 'wfnt', 'golf', 'greenbelt', 'noise_traffic', 'view_rainier', 'view_olympics', 'view_cascades', 'view_territorial', 'view_skyline', 'view_sound', 'view_lakewash', 'view_lakesamm', 'view_otherwater', 'view_other', 'submarket', 'sale_year', 'sale_month', 'sale_quarter', 'sale_day_of_week', 'sale_day_of_month']...\n"
     ]
    }
   ],
   "source": [
    "feature_columns = [col for col in dataset_processed.columns if col not in ['sale_price']]\n",
    "X = dataset_processed[feature_columns]\n",
    "y = dataset_processed['sale_price']\n",
    "\n",
    "print(f\"\\nSố lượng features: {X.shape[1]}\")\n",
    "print(f\"Các đặc trưng từ ngày: sale_year, sale_month, sale_quarter, sale_day_of_week, sale_day_of_month\")\n",
    "print(f\"Tên các features: {X.columns.tolist()}...\")"
   ]
  },
  {
   "cell_type": "markdown",
   "id": "bfe1abbf",
   "metadata": {},
   "source": [
    "#### Chia tập train và validation"
   ]
  },
  {
   "cell_type": "code",
   "execution_count": 8,
   "id": "d2926c20",
   "metadata": {},
   "outputs": [
    {
     "name": "stdout",
     "output_type": "stream",
     "text": [
      "\n",
      "Kích thước tập train: (160000, 50)\n",
      "Kích thước tập validation: (40000, 50)\n"
     ]
    }
   ],
   "source": [
    "X_train, X_val, y_train, y_val = train_test_split(\n",
    "    X, y, test_size=0.2, random_state=42, stratify=None\n",
    ")\n",
    "\n",
    "print(f\"\\nKích thước tập train: {X_train.shape}\")\n",
    "print(f\"Kích thước tập validation: {X_val.shape}\")"
   ]
  },
  {
   "cell_type": "markdown",
   "id": "8454e623",
   "metadata": {},
   "source": [
    "#### Chuẩn hóa dữ liệu"
   ]
  },
  {
   "cell_type": "code",
   "execution_count": 9,
   "id": "d970b690",
   "metadata": {},
   "outputs": [
    {
     "name": "stdout",
     "output_type": "stream",
     "text": [
      "\n",
      "Đã hoàn thành chuẩn hóa dữ liệu\n"
     ]
    }
   ],
   "source": [
    "scaler = StandardScaler()\n",
    "X_train_scaled = scaler.fit_transform(X_train)\n",
    "X_val_scaled = scaler.transform(X_val)\n",
    "\n",
    "print(\"\\nĐã hoàn thành chuẩn hóa dữ liệu\")"
   ]
  },
  {
   "cell_type": "markdown",
   "id": "456cc4ca",
   "metadata": {},
   "source": [
    "#### Xử lý tập test"
   ]
  },
  {
   "cell_type": "code",
   "execution_count": 10,
   "id": "dac30321",
   "metadata": {},
   "outputs": [
    {
     "name": "stdout",
     "output_type": "stream",
     "text": [
      "Kích thước tập test sau xử lý: (200000, 50)\n",
      "Đã xử lý tập test với 50 features\n"
     ]
    }
   ],
   "source": [
    "test_processed = preprocess_categorical(test_with_date_features, categorical_columns, label_encoders, is_training=False)\n",
    "\n",
    "for col in feature_columns:\n",
    "    if col in test_processed.columns and test_processed[col].dtype in ['int64', 'float64'] and test_processed[col].isnull().sum() > 0:\n",
    "        median_val = dataset_processed[col].median()\n",
    "        test_processed[col] = test_processed[col].fillna(median_val)\n",
    "\n",
    "X_test = test_processed[feature_columns]\n",
    "X_test_scaled = scaler.transform(X_test)\n",
    "\n",
    "print(f\"Kích thước tập test sau xử lý: {X_test_scaled.shape}\")\n",
    "print(f\"Đã xử lý tập test với {len(feature_columns)} features\")"
   ]
  },
  {
   "cell_type": "markdown",
   "id": "cc088457",
   "metadata": {},
   "source": [
    "#### Lưu dữ liệu đã xử lý"
   ]
  },
  {
   "cell_type": "code",
   "execution_count": 11,
   "id": "fe809dee",
   "metadata": {},
   "outputs": [
    {
     "name": "stdout",
     "output_type": "stream",
     "text": [
      "\n",
      "Đã lưu tất cả dữ liệu đã xử lý:\n",
      "- processed/scaler.pkl\n",
      "- processed/label_encoders.pkl\n",
      "- processed/feature_columns.pkl\n",
      "- processed/X_train_scaled.npy\n",
      "- processed/X_val_scaled.npy\n",
      "- processed/X_test_scaled.npy\n",
      "- processed/y_train.npy\n",
      "- processed/y_val.npy\n"
     ]
    }
   ],
   "source": [
    "os.makedirs('processed', exist_ok=True)\n",
    "\n",
    "joblib.dump(scaler, 'processed/scaler.pkl')\n",
    "joblib.dump(label_encoders, 'processed/label_encoders.pkl')\n",
    "joblib.dump(feature_columns, 'processed/feature_columns.pkl')\n",
    "\n",
    "np.save('processed/X_train_scaled.npy', X_train_scaled)\n",
    "np.save('processed/X_val_scaled.npy', X_val_scaled)\n",
    "np.save('processed/X_test_scaled.npy', X_test_scaled)\n",
    "np.save('processed/y_train.npy', y_train.values)\n",
    "np.save('processed/y_val.npy', y_val.values)\n",
    "\n",
    "print(\"\\nĐã lưu tất cả dữ liệu đã xử lý:\")\n",
    "print(\"- processed/scaler.pkl\")\n",
    "print(\"- processed/label_encoders.pkl\")\n",
    "print(\"- processed/feature_columns.pkl\")\n",
    "print(\"- processed/X_train_scaled.npy\")\n",
    "print(\"- processed/X_val_scaled.npy\")\n",
    "print(\"- processed/X_test_scaled.npy\")\n",
    "print(\"- processed/y_train.npy\")\n",
    "print(\"- processed/y_val.npy\")"
   ]
  },
  {
   "cell_type": "markdown",
   "id": "6a2fa38a",
   "metadata": {},
   "source": [
    "#### Thống kê cơ bản về target variable"
   ]
  },
  {
   "cell_type": "code",
   "execution_count": 12,
   "id": "48788e58",
   "metadata": {},
   "outputs": [
    {
     "name": "stdout",
     "output_type": "stream",
     "text": [
      "\n",
      "Thống kê về sale_price:\n",
      "Mean: 584,149\n",
      "Median: 459,950\n",
      "Std: 417,060\n",
      "Min: 50,293\n",
      "Max: 2,999,950\n",
      "\n",
      "Hoàn thành xử lý dữ liệu!\n"
     ]
    }
   ],
   "source": [
    "print(f\"\\nThống kê về sale_price:\")\n",
    "print(f\"Mean: {y.mean():,.0f}\")\n",
    "print(f\"Median: {y.median():,.0f}\")\n",
    "print(f\"Std: {y.std():,.0f}\")\n",
    "print(f\"Min: {y.min():,.0f}\")\n",
    "print(f\"Max: {y.max():,.0f}\")\n",
    "\n",
    "print(\"\\nHoàn thành xử lý dữ liệu!\")"
   ]
  }
 ],
 "metadata": {
  "kernelspec": {
   "display_name": "Python 3",
   "language": "python",
   "name": "python3"
  },
  "language_info": {
   "codemirror_mode": {
    "name": "ipython",
    "version": 3
   },
   "file_extension": ".py",
   "mimetype": "text/x-python",
   "name": "python",
   "nbconvert_exporter": "python",
   "pygments_lexer": "ipython3",
   "version": "3.11.9"
  }
 },
 "nbformat": 4,
 "nbformat_minor": 5
}
