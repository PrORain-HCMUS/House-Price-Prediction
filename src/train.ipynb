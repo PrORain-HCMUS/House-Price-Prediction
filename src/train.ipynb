{
 "cells": [
  {
   "cell_type": "markdown",
   "id": "de317ec0",
   "metadata": {},
   "source": [
    "# Huấn luyện mô hình dự đoán khoảng giá bằng LightGBM Quantile và Conformal Prediction"
   ]
  },
  {
   "cell_type": "markdown",
   "id": "ffb22a9b",
   "metadata": {},
   "source": [
    "## Chuẩn bị thư viện và load dữ liệu đã xử lý"
   ]
  },
  {
   "cell_type": "code",
   "execution_count": 7,
   "id": "1fd55389",
   "metadata": {},
   "outputs": [
    {
     "name": "stdout",
     "output_type": "stream",
     "text": [
      "\n",
      "✔️ Loading processed data...\n"
     ]
    }
   ],
   "source": [
    "import pandas as pd\n",
    "import numpy as np\n",
    "import lightgbm as lgb\n",
    "import joblib\n",
    "from datetime import date\n",
    "from sklearn.metrics import mean_absolute_error, mean_squared_error\n",
    "import warnings\n",
    "warnings.filterwarnings(\"ignore\")\n",
    "\n",
    "# =============================\n",
    "# Load processed data\n",
    "# =============================\n",
    "print(\"\\n\\u2714\\ufe0f Loading processed data...\")\n",
    "X_train_scaled = np.load('processed/X_train_scaled.npy')\n",
    "X_val_scaled = np.load('processed/X_val_scaled.npy')\n",
    "X_test_scaled = np.load('processed/X_test_scaled.npy')\n",
    "y_train = np.load('processed/y_train.npy')\n",
    "y_val = np.load('processed/y_val.npy')\n",
    "\n",
    "feature_columns = joblib.load('processed/feature_columns.pkl')\n"
   ]
  },
  {
   "cell_type": "markdown",
   "id": "d81a431d",
   "metadata": {},
   "source": [
    "## Tạo đặc trưng nâng cao (Feature Engineering)"
   ]
  },
  {
   "cell_type": "code",
   "execution_count": 8,
   "id": "dcbcfa57",
   "metadata": {},
   "outputs": [],
   "source": [
    "# Hàm tạo đặc trưng nâng cao từ dữ liệu đã chuẩn hóa\n",
    "def create_advanced_features(X_scaled, feature_names):\n",
    "    X_df = pd.DataFrame(X_scaled, columns=feature_names)\n",
    "    current_year = date.today().year\n",
    "\n",
    "    # Diện tích liên quan\n",
    "    if 'sqft' in X_df and 'sqft_lot' in X_df:\n",
    "        X_df['sqft_ratio'] = X_df['sqft'] / (X_df['sqft_lot'] + 1)\n",
    "        X_df['sqft_lot_log'] = np.log1p(np.abs(X_df['sqft_lot']))\n",
    "        X_df['sqft_log'] = np.log1p(np.abs(X_df['sqft']))\n",
    "\n",
    "    # Giá trị đất và xây dựng\n",
    "    if 'land_val' in X_df and 'imp_val' in X_df:\n",
    "        X_df['total_val'] = X_df['land_val'] + X_df['imp_val']\n",
    "        X_df['imp_land_ratio'] = X_df['imp_val'] / (X_df['land_val'] + 1)\n",
    "        X_df['total_val_log'] = np.log1p(np.abs(X_df['total_val']))\n",
    "        X_df['land_val_per_sqft'] = X_df['land_val'] / (X_df['sqft_lot'] + 1)\n",
    "\n",
    "    # Tương tác giữa phòng ngủ và diện tích\n",
    "    if 'beds' in X_df and 'sqft' in X_df:\n",
    "        X_df['sqft_per_bed'] = X_df['sqft'] / (X_df['beds'] + 1)\n",
    "        X_df['beds_sqft_interaction'] = X_df['beds'] * X_df['sqft']\n",
    "\n",
    "    # Tổng số phòng tắm quy đổi\n",
    "    if 'bath_full' in X_df and 'bath_3qtr' in X_df and 'bath_half' in X_df:\n",
    "        X_df['total_bath'] = X_df['bath_full'] + 0.75 * X_df['bath_3qtr'] + 0.5 * X_df['bath_half']\n",
    "        X_df['bath_per_bed'] = X_df['total_bath'] / (X_df['beds'] + 1)\n",
    "\n",
    "    # Tuổi nhà và năm cải tạo\n",
    "    if 'year_built' in X_df:\n",
    "        X_df['house_age'] = current_year - X_df['year_built']\n",
    "        X_df['house_age_squared'] = X_df['house_age'] ** 2\n",
    "        if 'year_reno' in X_df:\n",
    "            X_df['years_since_reno'] = np.where(X_df['year_reno'] > 0, current_year - X_df['year_reno'], X_df['house_age'])\n",
    "\n",
    "    # Tổng điểm view\n",
    "    view_cols = [col for col in X_df if col.startswith('view_')]\n",
    "    if view_cols:\n",
    "        X_df['total_view_score'] = X_df[view_cols].sum(axis=1)\n",
    "        X_df['has_view'] = (X_df['total_view_score'] > 0).astype(int)\n",
    "\n",
    "    # Diện tích garage\n",
    "    if 'gara_sqft' in X_df and 'sqft' in X_df:\n",
    "        X_df['garage_ratio'] = X_df['gara_sqft'] / (X_df['sqft'] + 1)\n",
    "        X_df['has_garage'] = (X_df['gara_sqft'] > 0).astype(int)\n",
    "\n",
    "    # Tọa độ địa lý\n",
    "    if 'latitude' in X_df and 'longitude' in X_df:\n",
    "        X_df['lat_long_interaction'] = X_df['latitude'] * X_df['longitude']\n",
    "        X_df['distance_from_center'] = np.sqrt((X_df['latitude'] - X_df['latitude'].mean())**2 + (X_df['longitude'] - X_df['longitude'].mean())**2)\n",
    "\n",
    "    # Đánh giá tổng thể\n",
    "    if 'grade' in X_df and 'condition' in X_df:\n",
    "        X_df['grade_condition_interaction'] = X_df['grade'] * X_df['condition']\n",
    "        X_df['quality_score'] = X_df['grade'] + X_df['condition']\n",
    "\n",
    "    return X_df.values\n"
   ]
  },
  {
   "cell_type": "code",
   "execution_count": 9,
   "id": "81e7035d",
   "metadata": {},
   "outputs": [],
   "source": [
    "# Áp dụng tạo đặc trưng cho các tập train, val, test\n",
    "X_train = create_advanced_features(X_train_scaled, feature_columns)\n",
    "X_val = create_advanced_features(X_val_scaled, feature_columns)\n",
    "X_test = create_advanced_features(X_test_scaled, feature_columns)"
   ]
  },
  {
   "cell_type": "markdown",
   "id": "b57eba83",
   "metadata": {},
   "source": [
    "## Huấn luyện mô hình LightGBM Quantile"
   ]
  },
  {
   "cell_type": "code",
   "execution_count": 10,
   "id": "31d1dfc7",
   "metadata": {},
   "outputs": [
    {
     "name": "stdout",
     "output_type": "stream",
     "text": [
      "\n",
      "✔️ Training quantile regressors...\n",
      "[LightGBM] [Info] Auto-choosing col-wise multi-threading, the overhead of testing was 0.043363 seconds.\n",
      "You can set `force_col_wise=true` to remove the overhead.\n",
      "[LightGBM] [Info] Total Bins 8061\n",
      "[LightGBM] [Info] Number of data points in the train set: 160000, number of used features: 71\n",
      "[LightGBM] [Info] Start training from score 185000.000000\n",
      "[LightGBM] [Warning] No further splits with positive gain, best gain: -inf\n",
      "[LightGBM] [Warning] No further splits with positive gain, best gain: -inf\n",
      "[LightGBM] [Warning] No further splits with positive gain, best gain: -inf\n",
      "[LightGBM] [Warning] No further splits with positive gain, best gain: -inf\n",
      "[LightGBM] [Warning] No further splits with positive gain, best gain: -inf\n",
      "[LightGBM] [Warning] No further splits with positive gain, best gain: -inf\n",
      "[LightGBM] [Warning] No further splits with positive gain, best gain: -inf\n",
      "[LightGBM] [Warning] No further splits with positive gain, best gain: -inf\n",
      "[LightGBM] [Warning] No further splits with positive gain, best gain: -inf\n",
      "[LightGBM] [Warning] No further splits with positive gain, best gain: -inf\n",
      "[LightGBM] [Warning] No further splits with positive gain, best gain: -inf\n",
      "[LightGBM] [Warning] No further splits with positive gain, best gain: -inf\n",
      "[LightGBM] [Warning] No further splits with positive gain, best gain: -inf\n",
      "[LightGBM] [Warning] No further splits with positive gain, best gain: -inf\n",
      "[LightGBM] [Warning] No further splits with positive gain, best gain: -inf\n",
      "[LightGBM] [Warning] No further splits with positive gain, best gain: -inf\n",
      "[LightGBM] [Warning] No further splits with positive gain, best gain: -inf\n",
      "[LightGBM] [Warning] No further splits with positive gain, best gain: -inf\n",
      "[LightGBM] [Warning] No further splits with positive gain, best gain: -inf\n",
      "[LightGBM] [Warning] No further splits with positive gain, best gain: -inf\n",
      "[LightGBM] [Warning] No further splits with positive gain, best gain: -inf\n",
      "[LightGBM] [Warning] No further splits with positive gain, best gain: -inf\n",
      "[LightGBM] [Warning] No further splits with positive gain, best gain: -inf\n",
      "[LightGBM] [Warning] No further splits with positive gain, best gain: -inf\n",
      "[LightGBM] [Warning] No further splits with positive gain, best gain: -inf\n",
      "[LightGBM] [Warning] No further splits with positive gain, best gain: -inf\n",
      "[LightGBM] [Warning] No further splits with positive gain, best gain: -inf\n",
      "[LightGBM] [Warning] No further splits with positive gain, best gain: -inf\n",
      "[LightGBM] [Warning] No further splits with positive gain, best gain: -inf\n",
      "[LightGBM] [Warning] No further splits with positive gain, best gain: -inf\n",
      "[LightGBM] [Warning] No further splits with positive gain, best gain: -inf\n",
      "[LightGBM] [Warning] No further splits with positive gain, best gain: -inf\n",
      "[LightGBM] [Warning] No further splits with positive gain, best gain: -inf\n",
      "[LightGBM] [Warning] No further splits with positive gain, best gain: -inf\n",
      "[LightGBM] [Warning] No further splits with positive gain, best gain: -inf\n",
      "[LightGBM] [Warning] No further splits with positive gain, best gain: -inf\n",
      "[LightGBM] [Warning] No further splits with positive gain, best gain: -inf\n",
      "[LightGBM] [Warning] No further splits with positive gain, best gain: -inf\n",
      "[LightGBM] [Warning] No further splits with positive gain, best gain: -inf\n",
      "[LightGBM] [Warning] No further splits with positive gain, best gain: -inf\n",
      "[LightGBM] [Warning] No further splits with positive gain, best gain: -inf\n",
      "[LightGBM] [Warning] No further splits with positive gain, best gain: -inf\n",
      "[LightGBM] [Warning] No further splits with positive gain, best gain: -inf\n",
      "[LightGBM] [Warning] No further splits with positive gain, best gain: -inf\n",
      "[LightGBM] [Warning] No further splits with positive gain, best gain: -inf\n",
      "[LightGBM] [Warning] No further splits with positive gain, best gain: -inf\n",
      "[LightGBM] [Warning] No further splits with positive gain, best gain: -inf\n",
      "[LightGBM] [Warning] No further splits with positive gain, best gain: -inf\n",
      "[LightGBM] [Warning] No further splits with positive gain, best gain: -inf\n",
      "[LightGBM] [Info] Auto-choosing col-wise multi-threading, the overhead of testing was 0.049412 seconds.\n",
      "You can set `force_col_wise=true` to remove the overhead.\n",
      "[LightGBM] [Info] Total Bins 8061\n",
      "[LightGBM] [Info] Number of data points in the train set: 160000, number of used features: 71\n",
      "[LightGBM] [Info] Start training from score 1435000.000000\n",
      "[LightGBM] [Warning] No further splits with positive gain, best gain: -inf\n",
      "[LightGBM] [Warning] No further splits with positive gain, best gain: -inf\n",
      "[LightGBM] [Warning] No further splits with positive gain, best gain: -inf\n",
      "[LightGBM] [Warning] No further splits with positive gain, best gain: -inf\n",
      "[LightGBM] [Warning] No further splits with positive gain, best gain: -inf\n",
      "[LightGBM] [Warning] No further splits with positive gain, best gain: -inf\n",
      "[LightGBM] [Warning] No further splits with positive gain, best gain: -inf\n",
      "[LightGBM] [Warning] No further splits with positive gain, best gain: -inf\n",
      "[LightGBM] [Warning] No further splits with positive gain, best gain: -inf\n",
      "[LightGBM] [Warning] No further splits with positive gain, best gain: -inf\n"
     ]
    }
   ],
   "source": [
    "# Huấn luyện 2 mô hình LGBM để học phân vị 5% và 95%\n",
    "print(\"\\n\\u2714\\ufe0f Training quantile regressors...\")\n",
    "\n",
    "lgb_params = {\n",
    "    'objective': 'quantile',\n",
    "    'n_estimators': 1200,\n",
    "    'learning_rate': 0.02,\n",
    "    'num_leaves': 64,\n",
    "    'max_depth': 7,\n",
    "    'min_child_samples': 20,\n",
    "    'subsample': 0.8,\n",
    "    'colsample_bytree': 0.8,\n",
    "    'reg_alpha': 1.0,\n",
    "    'reg_lambda': 1.0,\n",
    "    'random_state': 42\n",
    "}\n",
    "\n",
    "# Mô hình cho phân vị thấp (5%)\n",
    "lgb_5 = lgb.LGBMRegressor(**lgb_params, alpha=0.05)\n",
    "\n",
    "# Mô hình cho phân vị cao (95%)\n",
    "lgb_95 = lgb.LGBMRegressor(**lgb_params, alpha=0.95)\n",
    "\n",
    "# Huấn luyện\n",
    "lgb_5.fit(X_train, y_train)\n",
    "lgb_95.fit(X_train, y_train)\n",
    "\n",
    "# Dự đoán khoảng trên tập validation\n",
    "val_l = lgb_5.predict(X_val)\n",
    "val_u = lgb_95.predict(X_val)\n"
   ]
  },
  {
   "cell_type": "markdown",
   "id": "62bc5809",
   "metadata": {},
   "source": [
    "## Hiệu chỉnh bằng Conformal Prediction"
   ]
  },
  {
   "cell_type": "code",
   "execution_count": 11,
   "id": "98129a60",
   "metadata": {},
   "outputs": [],
   "source": [
    "# Tính residual và hiệu chỉnh bằng Conformal Prediction\n",
    "residuals = np.maximum(0, val_l - y_val) + np.maximum(0, y_val - val_u)\n",
    "q_hat = np.quantile(residuals, 0.9)\n",
    "\n",
    "# Khoảng dự đoán hiệu chỉnh\n",
    "val_l_adj = val_l - q_hat\n",
    "val_u_adj = val_u + q_hat\n",
    "\n",
    "# Đánh giá độ phủ (coverage)\n",
    "coverage = np.mean((y_val >= val_l_adj) & (y_val <= val_u_adj))\n"
   ]
  },
  {
   "cell_type": "markdown",
   "id": "3f903726",
   "metadata": {},
   "source": [
    "## Tính các độ đo đánh giá"
   ]
  },
  {
   "cell_type": "code",
   "execution_count": 12,
   "id": "89320cfc",
   "metadata": {},
   "outputs": [
    {
     "name": "stdout",
     "output_type": "stream",
     "text": [
      "\n",
      "Coverage: 0.900\n",
      "Winkler Score: 341,850.64\n",
      "MAE: 63,012.56\n",
      "RMSE: 116,814.94\n",
      "Mean Interval Width: 247,135.10\n",
      "q_hat: 5863.87\n"
     ]
    }
   ],
   "source": [
    "# Hàm tính Winkler Score (đánh giá khoảng dự đoán tốt cả chiều rộng lẫn độ chính xác)\n",
    "def winkler_score(y_true, l, u, alpha=0.1):\n",
    "    width = u - l\n",
    "    penalty = np.where(y_true < l, (2/alpha)*(l - y_true),\n",
    "              np.where(y_true > u, (2/alpha)*(y_true - u), 0))\n",
    "    return width + penalty\n",
    "\n",
    "# Tính các chỉ số\n",
    "val_winkler = np.mean(winkler_score(y_val, val_l_adj, val_u_adj, alpha=0.1))\n",
    "mean_width = np.mean(val_u_adj - val_l_adj)\n",
    "val_mae = mean_absolute_error(y_val, (val_l_adj + val_u_adj) / 2)\n",
    "val_rmse = np.sqrt(mean_squared_error(y_val, (val_l_adj + val_u_adj) / 2))\n",
    "\n",
    "# In kết quả\n",
    "print(f\"\\nCoverage: {coverage:.3f}\")\n",
    "print(f\"Winkler Score: {val_winkler:,.2f}\")\n",
    "print(f\"MAE: {val_mae:,.2f}\")\n",
    "print(f\"RMSE: {val_rmse:,.2f}\")\n",
    "print(f\"Mean Interval Width: {mean_width:,.2f}\")\n",
    "print(f\"q_hat: {q_hat:.2f}\")\n"
   ]
  },
  {
   "cell_type": "markdown",
   "id": "40e48430",
   "metadata": {},
   "source": [
    "## Dự đoán trên tập test và tạo submission"
   ]
  },
  {
   "cell_type": "code",
   "execution_count": 13,
   "id": "8c084c8a",
   "metadata": {},
   "outputs": [
    {
     "name": "stdout",
     "output_type": "stream",
     "text": [
      "\n",
      "✔️ Generating final predictions...\n",
      "\n",
      "✔️ Submission saved as 'submission.csv'\n"
     ]
    }
   ],
   "source": [
    "# Dự đoán trên tập test và lưu kết quả submission\n",
    "print(\"\\n\\u2714\\ufe0f Generating final predictions...\")\n",
    "\n",
    "# Áp dụng khoảng hiệu chỉnh\n",
    "test_l = lgb_5.predict(X_test) - q_hat\n",
    "test_u = lgb_95.predict(X_test) + q_hat\n",
    "\n",
    "# Lấy ID gốc từ file test\n",
    "test_df = pd.read_csv(\"dataset/test.csv\")\n",
    "\n",
    "# Tạo submission\n",
    "submission = pd.DataFrame({\n",
    "    'id': test_df['id'],\n",
    "    'pi_lower': test_l,\n",
    "    'pi_upper': test_u\n",
    "})\n",
    "submission.to_csv(\"submission.csv\", index=False)\n",
    "\n",
    "print(\"\\n\\u2714\\ufe0f Submission saved as 'submission.csv'\")"
   ]
  }
 ],
 "metadata": {
  "kernelspec": {
   "display_name": "Python 3",
   "language": "python",
   "name": "python3"
  },
  "language_info": {
   "codemirror_mode": {
    "name": "ipython",
    "version": 3
   },
   "file_extension": ".py",
   "mimetype": "text/x-python",
   "name": "python",
   "nbconvert_exporter": "python",
   "pygments_lexer": "ipython3",
   "version": "3.11.9"
  }
 },
 "nbformat": 4,
 "nbformat_minor": 5
}
