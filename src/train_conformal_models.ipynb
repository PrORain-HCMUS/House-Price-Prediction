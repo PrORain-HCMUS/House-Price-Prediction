{
 "cells": [
  {
   "cell_type": "markdown",
   "id": "cffac1be",
   "metadata": {},
   "source": [
    "Training a Conformal Prediction Model for House Price Range Estimation\n",
    "\n",
    "Objective: Build a model to predict value intervals (prediction intervals) with a 90% coverage rate\n",
    "\n",
    "Using a combination of LightGBM and ElasticNet with Conformal Prediction\n",
    "\n",
    "Date: 2025/07/16"
   ]
  },
  {
   "cell_type": "markdown",
   "id": "6226baef",
   "metadata": {},
   "source": [
    "#### Import thư viện cần thiết"
   ]
  },
  {
   "cell_type": "code",
   "execution_count": 1,
   "id": "18cca2ed",
   "metadata": {},
   "outputs": [],
   "source": [
    "import pandas as pd\n",
    "import numpy as np\n",
    "import lightgbm as lgb\n",
    "from sklearn.linear_model import ElasticNet, Ridge\n",
    "from sklearn.ensemble import RandomForestRegressor, HistGradientBoostingRegressor\n",
    "from sklearn.model_selection import KFold, GridSearchCV\n",
    "from sklearn.metrics import mean_squared_error, mean_absolute_error\n",
    "from sklearn.ensemble import VotingRegressor\n",
    "from sklearn.preprocessing import PolynomialFeatures, StandardScaler\n",
    "from sklearn.pipeline import make_pipeline\n",
    "import joblib\n",
    "import warnings\n",
    "from datetime import date\n",
    "warnings.filterwarnings('ignore')"
   ]
  },
  {
   "cell_type": "markdown",
   "id": "433910e6",
   "metadata": {},
   "source": [
    "#### Tải dữ liệu đã xử lý"
   ]
  },
  {
   "cell_type": "code",
   "execution_count": 2,
   "id": "2e558315",
   "metadata": {},
   "outputs": [
    {
     "name": "stdout",
     "output_type": "stream",
     "text": [
      "Đang tải dữ liệu đã xử lý...\n",
      "Kích thước X_train: (160000, 50)\n",
      "Kích thước X_val: (40000, 50)\n",
      "Kích thước X_test: (200000, 50)\n",
      "Kích thước y_train: (160000,)\n",
      "Kích thước y_val: (40000,)\n"
     ]
    }
   ],
   "source": [
    "print(\"Đang tải dữ liệu đã xử lý...\")\n",
    "X_train_scaled = np.load('processed/X_train_scaled.npy')\n",
    "X_val_scaled = np.load('processed/X_val_scaled.npy')\n",
    "X_test_scaled = np.load('processed/X_test_scaled.npy')\n",
    "y_train = np.load('processed/y_train.npy')\n",
    "y_val = np.load('processed/y_val.npy')\n",
    "\n",
    "scaler = joblib.load('processed/scaler.pkl')\n",
    "label_encoders = joblib.load('processed/label_encoders.pkl')\n",
    "feature_columns = joblib.load('processed/feature_columns.pkl')\n",
    "\n",
    "print(f\"Kích thước X_train: {X_train_scaled.shape}\")\n",
    "print(f\"Kích thước X_val: {X_val_scaled.shape}\")\n",
    "print(f\"Kích thước X_test: {X_test_scaled.shape}\")\n",
    "print(f\"Kích thước y_train: {y_train.shape}\")\n",
    "print(f\"Kích thước y_val: {y_val.shape}\")"
   ]
  },
  {
   "cell_type": "markdown",
   "id": "65322c1e",
   "metadata": {},
   "source": [
    "#### Feature Engineering bổ sung"
   ]
  },
  {
   "cell_type": "code",
   "execution_count": 3,
   "id": "abdd3adf",
   "metadata": {},
   "outputs": [
    {
     "name": "stdout",
     "output_type": "stream",
     "text": [
      "Tạo đặc trưng nâng cao...\n",
      "Số đặc trưng sau khi tăng cường: 72\n"
     ]
    }
   ],
   "source": [
    "def create_advanced_features(X_scaled, feature_names):\n",
    "    \"\"\"\n",
    "    Tạo các đặc trưng nâng cao để cải thiện MAE và RMSE\n",
    "    \"\"\"\n",
    "    X_df = pd.DataFrame(X_scaled, columns=feature_names)\n",
    "    current_year = date.today().year\n",
    "\n",
    "    # Tỷ lệ diện tích\n",
    "    if 'sqft' in X_df.columns and 'sqft_lot' in X_df.columns:\n",
    "        X_df['sqft_ratio'] = X_df['sqft'] / (X_df['sqft_lot'] + 1)\n",
    "        X_df['sqft_lot_log'] = np.log1p(np.abs(X_df['sqft_lot']))\n",
    "        X_df['sqft_log'] = np.log1p(np.abs(X_df['sqft']))\n",
    "    \n",
    "    # Giá trị bất động sản\n",
    "    if 'land_val' in X_df.columns and 'imp_val' in X_df.columns:\n",
    "        X_df['total_val'] = X_df['land_val'] + X_df['imp_val']\n",
    "        X_df['imp_land_ratio'] = X_df['imp_val'] / (X_df['land_val'] + 1)\n",
    "        X_df['total_val_log'] = np.log1p(np.abs(X_df['total_val']))\n",
    "        X_df['land_val_per_sqft'] = X_df['land_val'] / (X_df['sqft_lot'] + 1)\n",
    "    \n",
    "    # Đặc trưng nhà ở\n",
    "    if 'beds' in X_df.columns and 'sqft' in X_df.columns:\n",
    "        X_df['sqft_per_bed'] = X_df['sqft'] / (X_df['beds'] + 1)\n",
    "        X_df['beds_sqft_interaction'] = X_df['beds'] * X_df['sqft']\n",
    "    \n",
    "    # Tổng số phòng tắm\n",
    "    if 'bath_full' in X_df.columns and 'bath_3qtr' in X_df.columns and 'bath_half' in X_df.columns:\n",
    "        X_df['total_bath'] = X_df['bath_full'] + X_df['bath_3qtr'] * 0.75 + X_df['bath_half'] * 0.5\n",
    "        X_df['bath_per_bed'] = X_df['total_bath'] / (X_df['beds'] + 1)\n",
    "    \n",
    "    # Tuổi nhà và renovation\n",
    "    if 'year_built' in X_df.columns:\n",
    "        X_df['house_age'] = current_year - X_df['year_built']\n",
    "        X_df['house_age_squared'] = X_df['house_age'] ** 2\n",
    "        if 'year_reno' in X_df.columns:\n",
    "            X_df['years_since_reno'] = np.where(X_df['year_reno'] > 0, current_year - X_df['year_reno'], X_df['house_age'])\n",
    "    \n",
    "    # Điểm view tổng hợp\n",
    "    view_columns = [col for col in X_df.columns if col.startswith('view_')]\n",
    "    if view_columns:\n",
    "        X_df['total_view_score'] = X_df[view_columns].sum(axis=1)\n",
    "        X_df['has_view'] = (X_df['total_view_score'] > 0).astype(int)\n",
    "    \n",
    "    # Đặc trưng garage\n",
    "    if 'gara_sqft' in X_df.columns and 'sqft' in X_df.columns:\n",
    "        X_df['garage_ratio'] = X_df['gara_sqft'] / (X_df['sqft'] + 1)\n",
    "        X_df['has_garage'] = (X_df['gara_sqft'] > 0).astype(int)\n",
    "    \n",
    "    # Đặc trưng vị trí\n",
    "    if 'latitude' in X_df.columns and 'longitude' in X_df.columns:\n",
    "        X_df['lat_long_interaction'] = X_df['latitude'] * X_df['longitude']\n",
    "        X_df['distance_from_center'] = np.sqrt((X_df['latitude'] - X_df['latitude'].mean())**2 + (X_df['longitude'] - X_df['longitude'].mean())**2)\n",
    "    \n",
    "    # Tương tác giữa grade và condition\n",
    "    if 'grade' in X_df.columns and 'condition' in X_df.columns:\n",
    "        X_df['grade_condition_interaction'] = X_df['grade'] * X_df['condition']\n",
    "        X_df['quality_score'] = X_df['grade'] + X_df['condition']\n",
    "    \n",
    "    return X_df.values\n",
    "\n",
    "print(\"Tạo đặc trưng nâng cao...\")\n",
    "X_train_enhanced = create_advanced_features(X_train_scaled, feature_columns)\n",
    "X_val_enhanced = create_advanced_features(X_val_scaled, feature_columns)\n",
    "X_test_enhanced = create_advanced_features(X_test_scaled, feature_columns)\n",
    "\n",
    "print(f\"Số đặc trưng sau khi tăng cường: {X_train_enhanced.shape[1]}\")"
   ]
  },
  {
   "cell_type": "markdown",
   "id": "1542562c",
   "metadata": {},
   "source": [
    "#### Thiết lập mô hình cơ sở"
   ]
  },
  {
   "cell_type": "code",
   "execution_count": 4,
   "id": "66f5d1b5",
   "metadata": {},
   "outputs": [
    {
     "name": "stdout",
     "output_type": "stream",
     "text": [
      "Thiết lập mô hình tối ưu...\n"
     ]
    }
   ],
   "source": [
    "print(\"Thiết lập mô hình tối ưu...\")\n",
    "\n",
    "# LightGBM với hyperparameters tối ưu\n",
    "lgb_optimized = lgb.LGBMRegressor(\n",
    "    objective='regression',\n",
    "    metric='rmse',\n",
    "    boosting_type='gbdt',\n",
    "    num_leaves=127,\n",
    "    learning_rate=0.03,\n",
    "    feature_fraction=0.85,\n",
    "    bagging_fraction=0.75,\n",
    "    bagging_freq=0,\n",
    "    min_child_samples=5,\n",
    "    min_child_weight=0.1,\n",
    "    max_depth=8,\n",
    "    reg_alpha=0.0,\n",
    "    reg_lambda=0.0,\n",
    "    n_estimators=1000,\n",
    "    random_state=42,\n",
    "    n_jobs=-1,\n",
    "    verbose=-1\n",
    ")\n",
    "\n",
    "# Hist Gradient Boosting tối ưu\n",
    "gb_optimized = HistGradientBoostingRegressor(\n",
    "    max_iter=600,\n",
    "    learning_rate=0.05,\n",
    "    max_depth=10,\n",
    "    min_samples_leaf=20,\n",
    "    max_leaf_nodes=127,\n",
    "    max_bins=127,\n",
    "    l2_regularization=0.01,\n",
    "    random_state=42\n",
    ")"
   ]
  },
  {
   "cell_type": "code",
   "execution_count": 5,
   "id": "66cc9a9d",
   "metadata": {},
   "outputs": [
    {
     "name": "stdout",
     "output_type": "stream",
     "text": [
      "Đã thiết lập mô hình ensemble tối ưu (LGB + HistGB)\n"
     ]
    }
   ],
   "source": [
    "# Ensemble model với weights tối ưu\n",
    "ensemble_optimized = VotingRegressor([\n",
    "    ('lgb', lgb_optimized),\n",
    "    ('hgb', gb_optimized)\n",
    "], weights=[0.505, 0.495])\n",
    "\n",
    "print(\"Đã thiết lập mô hình ensemble tối ưu (LGB + HistGB)\")"
   ]
  },
  {
   "cell_type": "markdown",
   "id": "ac63091c",
   "metadata": {},
   "source": [
    "#### Huấn luyện mô hình với Cross-Validation"
   ]
  },
  {
   "cell_type": "code",
   "execution_count": 6,
   "id": "e8801ec7",
   "metadata": {},
   "outputs": [
    {
     "name": "stdout",
     "output_type": "stream",
     "text": [
      "Bắt đầu huấn luyện với K-Fold Cross-Validation...\n",
      "Fold 1 - RMSE: 102276.48, MAE: 56615.26\n",
      "Fold 2 - RMSE: 104072.92, MAE: 56615.94\n",
      "Fold 3 - RMSE: 101864.00, MAE: 56485.14\n",
      "Fold 4 - RMSE: 100512.72, MAE: 56387.19\n",
      "Fold 5 - RMSE: 102439.95, MAE: 56471.27\n",
      "\n",
      "Mean CV RMSE: 102233.21 ± 1142.42\n",
      "Mean CV MAE: 56514.96 ± 88.75\n"
     ]
    }
   ],
   "source": [
    "print(\"Bắt đầu huấn luyện với K-Fold Cross-Validation...\")\n",
    "\n",
    "kf = KFold(n_splits=5, shuffle=True, random_state=42)\n",
    "\n",
    "# Đánh giá RMSE\n",
    "cv_rmse_scores = []\n",
    "cv_mae_scores = []\n",
    "\n",
    "for fold, (train_idx, val_idx) in enumerate(kf.split(X_train_enhanced)):\n",
    "    X_fold_train, X_fold_val = X_train_enhanced[train_idx], X_train_enhanced[val_idx]\n",
    "    y_fold_train, y_fold_val = y_train[train_idx], y_train[val_idx]\n",
    "    \n",
    "    ensemble_optimized.fit(X_fold_train, y_fold_train)\n",
    "    y_pred = ensemble_optimized.predict(X_fold_val)\n",
    "    \n",
    "    fold_rmse = np.sqrt(mean_squared_error(y_fold_val, y_pred))\n",
    "    fold_mae = mean_absolute_error(y_fold_val, y_pred)\n",
    "    \n",
    "    cv_rmse_scores.append(fold_rmse)\n",
    "    cv_mae_scores.append(fold_mae)\n",
    "    \n",
    "    print(f\"Fold {fold+1} - RMSE: {fold_rmse:.2f}, MAE: {fold_mae:.2f}\")\n",
    "\n",
    "print(f\"\\nMean CV RMSE: {np.mean(cv_rmse_scores):.2f} ± {np.std(cv_rmse_scores):.2f}\")\n",
    "print(f\"Mean CV MAE: {np.mean(cv_mae_scores):.2f} ± {np.std(cv_mae_scores):.2f}\")"
   ]
  },
  {
   "cell_type": "markdown",
   "id": "b39060cc",
   "metadata": {},
   "source": [
    "#### Huấn luyện mô hình cuối cùng"
   ]
  },
  {
   "cell_type": "code",
   "execution_count": 7,
   "id": "f7c670c2",
   "metadata": {},
   "outputs": [
    {
     "name": "stdout",
     "output_type": "stream",
     "text": [
      "Huấn luyện mô hình cuối cùng...\n",
      "Training RMSE: 68246.10\n",
      "Training MAE: 43880.18\n",
      "Validation RMSE: 102032.00\n",
      "Validation MAE: 56072.10\n"
     ]
    }
   ],
   "source": [
    "print(\"Huấn luyện mô hình cuối cùng...\")\n",
    "\n",
    "ensemble_optimized.fit(X_train_enhanced, y_train)\n",
    "\n",
    "train_pred = ensemble_optimized.predict(X_train_enhanced)\n",
    "val_pred = ensemble_optimized.predict(X_val_enhanced)\n",
    "\n",
    "train_rmse = np.sqrt(mean_squared_error(y_train, train_pred))\n",
    "train_mae = mean_absolute_error(y_train, train_pred)\n",
    "val_rmse = np.sqrt(mean_squared_error(y_val, val_pred))\n",
    "val_mae = mean_absolute_error(y_val, val_pred)\n",
    "\n",
    "print(f\"Training RMSE: {train_rmse:.2f}\")\n",
    "print(f\"Training MAE: {train_mae:.2f}\")\n",
    "print(f\"Validation RMSE: {val_rmse:.2f}\")\n",
    "print(f\"Validation MAE: {val_mae:.2f}\")"
   ]
  },
  {
   "cell_type": "markdown",
   "metadata": {},
   "source": [
    "#### Triển khai Conformal Prediction"
   ]
  },
  {
   "cell_type": "code",
   "execution_count": 8,
   "id": "0930de6f",
   "metadata": {},
   "outputs": [
    {
     "name": "stdout",
     "output_type": "stream",
     "text": [
      "Áp dụng Split Conformal Prediction tối ưu...\n",
      "Split Conformal quantile (q_hat): 128624.66\n",
      "Conformal MAE: 56072.10\n",
      "Conformal RMSE: 102032.00\n"
     ]
    }
   ],
   "source": [
    "def split_conformal_prediction(X_train, y_train, X_val, y_val, model, alpha=0.1):\n",
    "    \"\"\"\n",
    "    Triển khai Split Conformal Prediction\n",
    "    \"\"\"\n",
    "    model.fit(X_train, y_train)\n",
    "    \n",
    "    val_pred = model.predict(X_val)\n",
    "    \n",
    "    # Tính residuals\n",
    "    residuals = np.abs(y_val - val_pred)\n",
    "    \n",
    "    # Tính quantile với điều chỉnh finite sample\n",
    "    n_val = len(residuals)\n",
    "    quantile_level = np.ceil((n_val + 1) * (1 - alpha)) / n_val\n",
    "    quantile_level = min(quantile_level, 1.0)\n",
    "    \n",
    "    q_hat = np.quantile(residuals, quantile_level)\n",
    "    \n",
    "    # Tính MAE và RMSE của point predictions\n",
    "    val_mae = mean_absolute_error(y_val, val_pred)\n",
    "    val_rmse = np.sqrt(mean_squared_error(y_val, val_pred))\n",
    "    \n",
    "    return q_hat, val_mae, val_rmse\n",
    "\n",
    "print(\"Áp dụng Split Conformal Prediction tối ưu...\")\n",
    "q_hat, conformal_mae, conformal_rmse = split_conformal_prediction(\n",
    "    X_train_enhanced, y_train, X_val_enhanced, y_val,\n",
    "    ensemble_optimized, alpha=0.1\n",
    ")\n",
    "\n",
    "print(f\"Split Conformal quantile (q_hat): {q_hat:.2f}\")\n",
    "print(f\"Conformal MAE: {conformal_mae:.2f}\")\n",
    "print(f\"Conformal RMSE: {conformal_rmse:.2f}\")"
   ]
  },
  {
   "cell_type": "markdown",
   "id": "b8d038be",
   "metadata": {},
   "source": [
    "#### Tạo khoảng dự đoán cho tập test"
   ]
  },
  {
   "cell_type": "code",
   "execution_count": 9,
   "id": "8a1c0a1c",
   "metadata": {},
   "outputs": [
    {
     "name": "stdout",
     "output_type": "stream",
     "text": [
      "Tạo khoảng dự đoán cho tập test...\n",
      "Khoảng dự đoán Split Conformal - Mean width: 257249.33\n",
      "Point predictions - Mean: 593226.63\n",
      "Point predictions - Std: 410434.66\n"
     ]
    }
   ],
   "source": [
    "print(\"Tạo khoảng dự đoán cho tập test...\")\n",
    "\n",
    "test_pred = ensemble_optimized.predict(X_test_enhanced)\n",
    "\n",
    "pi_lower = test_pred - q_hat\n",
    "pi_upper = test_pred + q_hat\n",
    "\n",
    "mean_width = np.mean(pi_upper - pi_lower)\n",
    "\n",
    "print(f\"Khoảng dự đoán Split Conformal - Mean width: {mean_width:.2f}\")\n",
    "print(f\"Point predictions - Mean: {np.mean(test_pred):.2f}\")\n",
    "print(f\"Point predictions - Std: {np.std(test_pred):.2f}\")"
   ]
  },
  {
   "cell_type": "markdown",
   "metadata": {},
   "source": [
    "#### Đánh giá độ bao phủ trên tập validation"
   ]
  },
  {
   "cell_type": "code",
   "execution_count": 10,
   "id": "4760eb1b",
   "metadata": {},
   "outputs": [
    {
     "name": "stdout",
     "output_type": "stream",
     "text": [
      "Coverage Split Conformal: 0.900 (mục tiêu: 0.900)\n"
     ]
    }
   ],
   "source": [
    "val_pred_final = ensemble_optimized.predict(X_val_enhanced)\n",
    "\n",
    "val_pi_lower = val_pred_final - q_hat\n",
    "val_pi_upper = val_pred_final + q_hat\n",
    "\n",
    "coverage = np.mean((y_val >= val_pi_lower) & (y_val <= val_pi_upper))\n",
    "\n",
    "print(f\"Coverage Split Conformal: {coverage:.3f} (mục tiêu: 0.900)\")"
   ]
  },
  {
   "cell_type": "markdown",
   "metadata": {},
   "source": [
    "#### Tính Winkler Interval Score"
   ]
  },
  {
   "cell_type": "code",
   "execution_count": 11,
   "id": "e4afc0b0",
   "metadata": {},
   "outputs": [
    {
     "name": "stdout",
     "output_type": "stream",
     "text": [
      "Average Winkler Score: 259654.24\n"
     ]
    }
   ],
   "source": [
    "def winkler_score(y_true, pi_lower, pi_upper, alpha=0.1):\n",
    "    \"\"\"\n",
    "    Tính Winkler Interval Score\n",
    "    \"\"\"\n",
    "    width = pi_upper - pi_lower\n",
    "    \n",
    "    lower_penalty = 2 * alpha * np.maximum(0, pi_lower - y_true)\n",
    "    upper_penalty = 2 * alpha * np.maximum(0, y_true - pi_upper)\n",
    "    \n",
    "    score = width + lower_penalty + upper_penalty\n",
    "    \n",
    "    return score\n",
    "\n",
    "val_winkler = winkler_score(y_val, val_pi_lower, val_pi_upper, alpha=0.1)\n",
    "avg_winkler = np.mean(val_winkler)\n",
    "\n",
    "print(f\"Average Winkler Score: {avg_winkler:.2f}\")"
   ]
  },
  {
   "cell_type": "markdown",
   "id": "28186d27",
   "metadata": {},
   "source": [
    "#### Phân tích chi tiết về MAE và RMSE"
   ]
  },
  {
   "cell_type": "code",
   "execution_count": 12,
   "id": "cb2c2aa3",
   "metadata": {},
   "outputs": [
    {
     "name": "stdout",
     "output_type": "stream",
     "text": [
      "PHÂN TÍCH CHI TIẾT MAE VÀ RMSE:\n",
      "==================================================\n",
      "Percentile 25% (≤ $304,088):\n",
      "  MAE: 25,797.35\n",
      "  RMSE: 46,262.88\n",
      "  Samples: 10,000\n",
      "Percentile 50% (≤ $455,000):\n",
      "  MAE: 29,638.76\n",
      "  RMSE: 48,931.88\n",
      "  Samples: 20,073\n",
      "Percentile 75% (≤ $725,000):\n",
      "  MAE: 36,261.82\n",
      "  RMSE: 59,499.44\n",
      "  Samples: 30,107\n",
      "Percentile 90% (≤ $1,100,000):\n",
      "  MAE: 43,554.51\n",
      "  RMSE: 72,117.76\n",
      "  Samples: 36,118\n",
      "Percentile 95% (≤ $1,425,000):\n",
      "  MAE: 47,823.13\n",
      "  RMSE: 80,362.35\n",
      "  Samples: 38,001\n",
      "\n",
      "MAPE (Mean Absolute Percentage Error): 9.91%\n",
      "Median Absolute Error: 29,755.10\n"
     ]
    }
   ],
   "source": [
    "print(\"PHÂN TÍCH CHI TIẾT MAE VÀ RMSE:\")\n",
    "print(\"=\"*50)\n",
    "\n",
    "# Tính MAE và RMSE cho từng percentile\n",
    "percentiles = [25, 50, 75, 90, 95]\n",
    "for p in percentiles:\n",
    "    threshold = np.percentile(y_val, p)\n",
    "    mask = y_val <= threshold\n",
    "    \n",
    "    if np.sum(mask) > 0:\n",
    "        mae_p = mean_absolute_error(y_val[mask], val_pred_final[mask])\n",
    "        rmse_p = np.sqrt(mean_squared_error(y_val[mask], val_pred_final[mask]))\n",
    "        \n",
    "        print(f\"Percentile {p}% (≤ ${threshold:,.0f}):\")\n",
    "        print(f\"  MAE: {mae_p:,.2f}\")\n",
    "        print(f\"  RMSE: {rmse_p:,.2f}\")\n",
    "        print(f\"  Samples: {np.sum(mask):,}\")\n",
    "\n",
    "# Tính relative errors\n",
    "relative_errors = np.abs(y_val - val_pred_final) / y_val\n",
    "mape = np.mean(relative_errors) * 100\n",
    "\n",
    "print(f\"\\nMAPE (Mean Absolute Percentage Error): {mape:.2f}%\")\n",
    "print(f\"Median Absolute Error: {np.median(np.abs(y_val - val_pred_final)):,.2f}\")"
   ]
  },
  {
   "cell_type": "markdown",
   "id": "8d741deb",
   "metadata": {},
   "source": [
    "#### Lưu mô hình và kết quả"
   ]
  },
  {
   "cell_type": "code",
   "execution_count": 13,
   "id": "d9ea9d68",
   "metadata": {},
   "outputs": [
    {
     "name": "stdout",
     "output_type": "stream",
     "text": [
      "Đã lưu tất cả mô hình và kết quả\n"
     ]
    }
   ],
   "source": [
    "import os\n",
    "os.makedirs('models', exist_ok=True)\n",
    "\n",
    "joblib.dump(ensemble_optimized, 'models/optimized_ensemble_model.pkl')\n",
    "\n",
    "conformal_params = {\n",
    "    'q_hat': q_hat,\n",
    "    'alpha': 0.1,\n",
    "    'coverage': coverage,\n",
    "    'mae': conformal_mae,\n",
    "    'rmse': conformal_rmse\n",
    "}\n",
    "joblib.dump(conformal_params, 'models/optimized_conformal_params.pkl')\n",
    "\n",
    "results = {\n",
    "    'test_predictions': test_pred,\n",
    "    'pi_lower': pi_lower,\n",
    "    'pi_upper': pi_upper,\n",
    "    'coverage': coverage,\n",
    "    'winkler_score': avg_winkler,\n",
    "    'mae': conformal_mae,\n",
    "    'rmse': conformal_rmse,\n",
    "    'train_mae': train_mae,\n",
    "    'train_rmse': train_rmse,\n",
    "    'val_mae': val_mae,\n",
    "    'val_rmse': val_rmse,\n",
    "    'cv_mae_mean': np.mean(cv_mae_scores),\n",
    "    'cv_rmse_mean': np.mean(cv_rmse_scores)\n",
    "}\n",
    "\n",
    "np.save('models/optimized_results.npy', results)\n",
    "\n",
    "print(\"Đã lưu tất cả mô hình và kết quả\")"
   ]
  },
  {
   "cell_type": "markdown",
   "metadata": {},
   "source": [
    "#### Tóm tắt kết quả cuối cùng"
   ]
  },
  {
   "cell_type": "code",
   "execution_count": 14,
   "id": "0a405e76",
   "metadata": {},
   "outputs": [
    {
     "name": "stdout",
     "output_type": "stream",
     "text": [
      "============================================================\n",
      "KẾT QUẢ CUỐI CÙNG - SPLIT CONFORMAL PREDICTION\n",
      "============================================================\n",
      "Mô hình: Optimized Ensemble (LGBM + HistGB)\n",
      "Số lượng features: 72\n",
      "Số lượng mẫu test: 200,000\n",
      "\n",
      "PERFORMANCE METRICS:\n",
      "  Cross-Validation MAE: 56,514.96 ± 88.75\n",
      "  Cross-Validation RMSE: 102,233.21 ± 1,142.42\n",
      "  Training MAE: 43,880.18\n",
      "  Training RMSE: 68,246.10\n",
      "  Validation MAE: 56,072.10\n",
      "  Validation RMSE: 102,032.00\n",
      "  MAPE: 9.91%\n",
      "\n",
      "CONFORMAL PREDICTION RESULTS:\n",
      "  Coverage thực tế: 90.0%\n",
      "  Average Winkler Score: 259,654.24\n",
      "  Độ rộng khoảng trung bình: 257,249.33\n",
      "  Quantile threshold (q_hat): 128,624.66\n",
      "\n",
      "✓ Đạt độ bao phủ mục tiêu 90%\n",
      "\n",
      "So sánh với giá trị trung bình:\n",
      "  Median price: $460,000\n",
      "  MAE as % of median: 12.2%\n",
      "  RMSE as % of median: 22.2%\n",
      "  Interval width as % of median: 55.9%\n"
     ]
    }
   ],
   "source": [
    "print(\"=\"*60)\n",
    "print(\"KẾT QUẢ CUỐI CÙNG - SPLIT CONFORMAL PREDICTION\")\n",
    "print(\"=\"*60)\n",
    "\n",
    "print(f\"Mô hình: Optimized Ensemble (LGBM + HistGB)\")\n",
    "print(f\"Số lượng features: {X_train_enhanced.shape[1]}\")\n",
    "print(f\"Số lượng mẫu test: {len(test_pred):,}\")\n",
    "print()\n",
    "\n",
    "print(\"PERFORMANCE METRICS:\")\n",
    "print(f\"  Cross-Validation MAE: {np.mean(cv_mae_scores):,.2f} ± {np.std(cv_mae_scores):,.2f}\")\n",
    "print(f\"  Cross-Validation RMSE: {np.mean(cv_rmse_scores):,.2f} ± {np.std(cv_rmse_scores):,.2f}\")\n",
    "print(f\"  Training MAE: {train_mae:,.2f}\")\n",
    "print(f\"  Training RMSE: {train_rmse:,.2f}\")\n",
    "print(f\"  Validation MAE: {val_mae:,.2f}\")\n",
    "print(f\"  Validation RMSE: {val_rmse:,.2f}\")\n",
    "print(f\"  MAPE: {mape:.2f}%\")\n",
    "print()\n",
    "\n",
    "print(\"CONFORMAL PREDICTION RESULTS:\")\n",
    "print(f\"  Coverage thực tế: {coverage:.1%}\")\n",
    "print(f\"  Average Winkler Score: {avg_winkler:,.2f}\")\n",
    "print(f\"  Độ rộng khoảng trung bình: {mean_width:,.2f}\")\n",
    "print(f\"  Quantile threshold (q_hat): {q_hat:,.2f}\")\n",
    "print()\n",
    "\n",
    "if coverage >= 0.89 and coverage <= 0.91:\n",
    "    print(\"✓ Đạt độ bao phủ mục tiêu 90%\")\n",
    "else:\n",
    "    print(\"✗ Chưa đạt độ bao phủ mục tiêu 90%\")\n",
    "\n",
    "# So sánh với giá trị trung bình\n",
    "median_price = np.median(y_train)\n",
    "print(f\"\\nSo sánh với giá trị trung bình:\")\n",
    "print(f\"  Median price: ${median_price:,.0f}\")\n",
    "print(f\"  MAE as % of median: {(val_mae/median_price)*100:.1f}%\")\n",
    "print(f\"  RMSE as % of median: {(val_rmse/median_price)*100:.1f}%\")\n",
    "print(f\"  Interval width as % of median: {(mean_width/median_price)*100:.1f}%\")\n"
   ]
  },
  {
   "cell_type": "markdown",
   "id": "389257f1",
   "metadata": {},
   "source": [
    "#### Xuất kết quả ra file CSV"
   ]
  },
  {
   "cell_type": "code",
   "execution_count": 15,
   "id": "8e6d28c5",
   "metadata": {},
   "outputs": [
    {
     "name": "stdout",
     "output_type": "stream",
     "text": [
      "Đã xuất kết quả ra file:\n",
      "- models/optimized_test_predictions.csv\n",
      "- models/performance_summary.csv\n",
      "\n",
      "Hoàn thành tối ưu hóa Split Conformal Prediction!\n"
     ]
    }
   ],
   "source": [
    "test_results_df = pd.DataFrame({\n",
    "    'prediction': test_pred,\n",
    "    'pi_lower': pi_lower,\n",
    "    'pi_upper': pi_upper,\n",
    "    'interval_width': pi_upper - pi_lower\n",
    "})\n",
    "\n",
    "test_results_df.to_csv('models/optimized_test_predictions.csv', index=False)\n",
    "\n",
    "# Tạo summary report\n",
    "summary_report = {\n",
    "    'Model': 'Optimized Ensemble (LGBM+HistGB) Split Conformal',\n",
    "    'CV_MAE_Mean': np.mean(cv_mae_scores),\n",
    "    'CV_MAE_Std': np.std(cv_mae_scores),\n",
    "    'CV_RMSE_Mean': np.mean(cv_rmse_scores),\n",
    "    'CV_RMSE_Std': np.std(cv_rmse_scores),\n",
    "    'Train_MAE': train_mae,\n",
    "    'Train_RMSE': train_rmse,\n",
    "    'Val_MAE': val_mae,\n",
    "    'Val_RMSE': val_rmse,\n",
    "    'MAPE': mape,\n",
    "    'Coverage': coverage,\n",
    "    'Winkler_Score': avg_winkler,\n",
    "    'Interval_Width': mean_width,\n",
    "    'Q_Hat': q_hat\n",
    "}\n",
    "\n",
    "summary_df = pd.DataFrame([summary_report])\n",
    "summary_df.to_csv('models/performance_summary.csv', index=False)\n",
    "\n",
    "print(\"Đã xuất kết quả ra file:\")\n",
    "print(\"- models/optimized_test_predictions.csv\")\n",
    "print(\"- models/performance_summary.csv\")\n",
    "print(\"\\nHoàn thành tối ưu hóa Split Conformal Prediction!\")"
   ]
  }
 ],
 "metadata": {
  "kernelspec": {
   "display_name": "Python 3",
   "language": "python",
   "name": "python3"
  },
  "language_info": {
   "codemirror_mode": {
    "name": "ipython",
    "version": 3
   },
   "file_extension": ".py",
   "mimetype": "text/x-python",
   "name": "python",
   "nbconvert_exporter": "python",
   "pygments_lexer": "ipython3",
   "version": "3.11.9"
  }
 },
 "nbformat": 4,
 "nbformat_minor": 5
}
